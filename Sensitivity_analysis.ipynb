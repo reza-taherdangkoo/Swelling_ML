{
 "cells": [
  {
   "cell_type": "markdown",
   "id": "14ffd120-1630-4a63-8365-5dd1a24b3e2b",
   "metadata": {},
   "source": [
    "<div style=\"font-size:20px; font-weight:bold;\">\n",
    "    Sensitivity Analysis of the bottom layer properties (id=\"1\")\n",
    "</div>"
   ]
  },
  {
   "cell_type": "code",
   "execution_count": 2,
   "id": "e19598b9-5864-47d7-abe1-3f95f89dc6ce",
   "metadata": {},
   "outputs": [
    {
     "name": "stdout",
     "output_type": "stream",
     "text": [
      "Young’s modulus (E): [ 500.          558.11701066  558.18901066  587.51809336  638.7539488\n",
      "  665.52860736  911.06461725 1174.832691   1318.85079768 1426.11485114\n",
      " 2500.        ]\n",
      "Poisson’s ratio (ν): [0.16       0.16960788 0.17241437 0.19240382 0.19345116 0.20191287\n",
      " 0.22637705 0.23844507 0.26454873 0.30490827 0.35      ]\n",
      "Maximum swelling pressure (σ): [ 3.2         6.42926462  6.81230142  7.61918403  7.76274985  7.97120805\n",
      "  8.43432549  9.33494482 10.28196649 10.35492233 10.78175289 12.50810022\n",
      " 13.        ]\n",
      "Permeability (k): [1.00000000e-14 4.27435361e-13 4.86900202e-13 6.02085531e-13\n",
      " 6.21966226e-13 6.60263458e-13 6.75969943e-13 6.96817032e-13\n",
      " 8.07615112e-13 8.23838090e-13 8.97150162e-13 8.99589741e-13\n",
      " 9.00611799e-13 9.87797807e-13 1.00000000e-12]\n",
      "p_b: [1000.         1287.23961912 1360.20652521 1509.8868484  1617.59817367\n",
      " 1755.30583308 1776.8210815  2101.86203987 2153.53070449 2438.44831991\n",
      " 2524.26654568 3271.46783271 3500.        ]\n"
     ]
    }
   ],
   "source": [
    "import numpy as np\n",
    "\n",
    "# the most probable values\n",
    "most_probable_values = {\n",
    "    'Young’s modulus (E)': 1000,\n",
    "    'Poisson’s ratio (ν)': 0.2,\n",
    "    'Maximum swelling pressure (σ)': 8,\n",
    "    'Permeability (k)': 8e-13,\n",
    "    'p_b': 2000\n",
    "}\n",
    "\n",
    "# the ranges\n",
    "ranges = {\n",
    "    'Young’s modulus (E)': (500, 2500),\n",
    "    'Poisson’s ratio (ν)': (0.16, 0.35),\n",
    "    'Maximum swelling pressure (σ)': (3.2, 13),\n",
    "    'Permeability (k)': (1e-14, 1e-12),\n",
    "    'p_b': (1000, 3500)\n",
    "}\n",
    "\n",
    "# standard deviations as 1/4th of the range\n",
    "std_devs = {param: (max_val - min_val) / 4 for param, (min_val, max_val) in ranges.items()}\n",
    "\n",
    "def generate_values(mean, std_dev, min_val, max_val, num_values=20):\n",
    "    values = np.random.normal(loc=mean, scale=std_dev, size=num_values-2)\n",
    "    values = np.clip(values, min_val, max_val)\n",
    "    values = np.concatenate(([min_val], values, [max_val]))\n",
    "    values = np.unique(values)\n",
    "    return np.sort(values)\n",
    "\n",
    "# Generate 15 values for each parameter\n",
    "generated_values = {}\n",
    "for param, mean in most_probable_values.items():\n",
    "    std_dev = std_devs[param]\n",
    "    min_val, max_val = ranges[param]\n",
    "    values = generate_values(mean, std_dev, min_val, max_val, num_values=15)\n",
    "    generated_values[param] = values\n",
    "\n",
    "for param, values in generated_values.items():\n",
    "    print(f'{param}: {values}')"
   ]
  },
  {
   "cell_type": "markdown",
   "id": "9fb159ca-77d4-45b6-9551-ebce66bcb4e2",
   "metadata": {},
   "source": [
    "\\begin{array}{|l|c|c|c|c|}\n",
    "\\hline\n",
    "\\text{Parameter} & \\text{Units} & \\text{Minimum} & \\text{Maximum} & \\text{Sigmoidal Steps} \\\\\n",
    "\\hline\n",
    "\\text{Young’s modulus (E)} & \\text{MPa} & 500 & 2500 & [500, 594, 766, 814, 946, 959, 1000, 1147, 1262, 1340, 1392, 1753, 1833, 1904, 2500] \\\\\n",
    "\\hline\n",
    "\\text{Poisson’s ratio} (\\nu) & \\text{–} & 0.16 & 0.35 & [0.16, 0.165, 0.172, 0.176, 0.197, 0.2, 0.21, 0.221, 0.223, 0.23, 0.24, 0.24, 0.35]\\\\\n",
    "\\hline\n",
    "\\text{Maximum swelling pressure} (\\sigma) & \\text{MPa} & 3.2 & 13 & [3.2, 4.19, 5.12, 5.18, 6.53, 7.42, 7.73, 8.12, 9.94, 10.21, 10.4, 11.05, 11.45, 12.64, 13] \\\\\n",
    "\\hline\n",
    "\\text{Permeability} & \\text{mD} & 1e-14 & 1e-12 & [1e-14, 6.486e-13, 6.652e-13, 7.443e-13, 7.713e-13, 8e-13, 8.077e-13, 8.722e-13, 8.732e-13, 8.771e-13, 9.29e-13, 9.977e-13, 1e-12] \\\\\n",
    "\\hline\n",
    "\\text{Entry pressure} (p_p) & \\text{–} & 1000 & 3500 & [1000, 1287, 1360, 1509, 1617, 1755, 1776, 2101, 2153, 2438, 2524, 3271, 3500]\\\\\n",
    "\\hline\n",
    "\\end{array}"
   ]
  },
  {
   "cell_type": "markdown",
   "id": "01d99fa9-5704-4112-b3fc-4ea12d820483",
   "metadata": {},
   "source": [
    "<div style=\"font-size:16px; font-weight:bold;\">\n",
    "    Output parameters for the ML analysis\n",
    "</div>"
   ]
  },
  {
   "cell_type": "markdown",
   "id": "c6c37e84-a965-4d14-898d-35972942ad17",
   "metadata": {},
   "source": [
    "Displacement (y_axis)\n",
    "\n",
    "porosity_avg\n",
    "\n",
    "Saturation_avg\n",
    "\n"
   ]
  },
  {
   "cell_type": "code",
   "execution_count": null,
   "id": "0f5f93e4-a6e4-4519-9028-296111f2ad01",
   "metadata": {},
   "outputs": [],
   "source": []
  }
 ],
 "metadata": {
  "kernelspec": {
   "display_name": "Python 3 (ipykernel)",
   "language": "python",
   "name": "python3"
  },
  "language_info": {
   "codemirror_mode": {
    "name": "ipython",
    "version": 3
   },
   "file_extension": ".py",
   "mimetype": "text/x-python",
   "name": "python",
   "nbconvert_exporter": "python",
   "pygments_lexer": "ipython3",
   "version": "3.10.12"
  }
 },
 "nbformat": 4,
 "nbformat_minor": 5
}
