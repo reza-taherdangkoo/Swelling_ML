{
 "cells": [
  {
   "cell_type": "markdown",
   "id": "14ffd120-1630-4a63-8365-5dd1a24b3e2b",
   "metadata": {},
   "source": [
    "<div style=\"font-size:20px; font-weight:bold;\">\n",
    "    Sensitivity Analysis of the bottom layer properties (id=\"1\")\n",
    "</div>"
   ]
  },
  {
   "cell_type": "code",
   "execution_count": 41,
   "id": "e19598b9-5864-47d7-abe1-3f95f89dc6ce",
   "metadata": {},
   "outputs": [
    {
     "name": "stdout",
     "output_type": "stream",
     "text": [
      "Young’s modulus (E): [ 500.          554.64946537  770.65482413  891.49913496 1315.22863634\n",
      " 1376.08881199 1641.39136959 2500.        ]\n",
      "Poisson’s ratio (ν): [0.16       0.16540374 0.17182483 0.17627848 0.1967703  0.20945001\n",
      " 0.20955493 0.22063212 0.2267686  0.22999379 0.24067955 0.2439646\n",
      " 0.35      ]\n",
      "Maximum swelling pressure (σ): [ 3.2         4.19202431  5.12377602  5.18504964  6.53014883  7.41700526\n",
      "  7.73151199  8.11733716  9.93887463 10.21438963 10.40048755 11.05539159\n",
      " 11.44748361 12.6412607  13.        ]\n",
      "Permeability (k): [1.00000000e-14 6.48649833e-13 6.65185988e-13 7.44286608e-13\n",
      " 7.71311952e-13 8.01928205e-13 8.07696675e-13 8.72241144e-13\n",
      " 8.73172986e-13 8.77102395e-13 9.28986138e-13 9.97777896e-13\n",
      " 1.00000000e-12]\n",
      "Initial water saturation (S_{wi}): [0.1        0.11707928 0.1309208  0.19118151 0.21177288 0.21570613\n",
      " 0.25128214 0.27409249 0.5       ]\n"
     ]
    }
   ],
   "source": [
    "import numpy as np\n",
    "\n",
    "# the most probable values\n",
    "most_probable_values = {\n",
    "    'Young’s modulus (E)': 1000,\n",
    "    'Poisson’s ratio (ν)': 0.2,\n",
    "    'Maximum swelling pressure (σ)': 8,\n",
    "    'Permeability (k)': 8e-13,\n",
    "    'Initial water saturation (S_{wi})': 0.12\n",
    "}\n",
    "\n",
    "# the ranges\n",
    "ranges = {\n",
    "    'Young’s modulus (E)': (500, 2500),\n",
    "    'Poisson’s ratio (ν)': (0.16, 0.35),\n",
    "    'Maximum swelling pressure (σ)': (3.2, 13),\n",
    "    'Permeability (k)': (1e-14, 1e-12),\n",
    "    'Initial water saturation (S_{wi})': (0.1, 0.5)\n",
    "}\n",
    "\n",
    "# standard deviations as 1/4th of the range\n",
    "std_devs = {param: (max_val - min_val) / 4 for param, (min_val, max_val) in ranges.items()}\n",
    "\n",
    "def generate_values(mean, std_dev, min_val, max_val, num_values=20):\n",
    "    values = np.random.normal(loc=mean, scale=std_dev, size=num_values-2)\n",
    "    values = np.clip(values, min_val, max_val)\n",
    "    values = np.concatenate(([min_val], values, [max_val]))\n",
    "    values = np.unique(values)\n",
    "    return np.sort(values)\n",
    "\n",
    "# Generate 15 values for each parameter\n",
    "generated_values = {}\n",
    "for param, mean in most_probable_values.items():\n",
    "    std_dev = std_devs[param]\n",
    "    min_val, max_val = ranges[param]\n",
    "    values = generate_values(mean, std_dev, min_val, max_val, num_values=15)\n",
    "    generated_values[param] = values\n",
    "\n",
    "for param, values in generated_values.items():\n",
    "    print(f'{param}: {values}')"
   ]
  },
  {
   "cell_type": "markdown",
   "id": "9fb159ca-77d4-45b6-9551-ebce66bcb4e2",
   "metadata": {},
   "source": [
    "\\begin{array}{|l|c|c|c|c|}\n",
    "\\hline\n",
    "\\text{Parameter} & \\text{Units} & \\text{Minimum} & \\text{Maximum} & \\text{Sigmoidal Steps} \\\\\n",
    "\\hline\n",
    "\\text{Young’s modulus (E)} & \\text{MPa} & 500 & 2500 & [500, 594, 766, 814, 946, 959, 1000, 1147, 1262, 1340, 1392, 1753, 1833, 1904, 2500] \\\\\n",
    "\\hline\n",
    "\\text{Poisson’s ratio} (\\nu) & \\text{–} & 0.16 & 0.45 & [0.16, 0.165, 0.172, 0.176, 0.197, 0.2, 0.21, 0.221, 0.223, 0.23, 0.24, 0.24, 0.35]\\\\\n",
    "\\hline\n",
    "\\text{Maximum swelling pressure} (\\sigma) & \\text{MPa} & 3.2 & 13 & [3.2, 4.19, 5.12, 5.18, 6.53, 7.42, 7.73, 8.12, 9.94, 10.21, 10.4, 11.05, 11.45, 12.64, 13] \\\\\n",
    "\\hline\n",
    "\\text{Permeability} & \\text{mD} & 1e-14 & 1e-12 & [1e-14, 6.486e-13, 6.652e-13, 7.443e-13, 7.713e-13, 8e-13, 8.077e-13, 8.722e-13, 8.732e-13, 8.771e-13, 9.29e-13, 9.977e-13, 1e-12] \\\\\n",
    "\\hline\n",
    "\\text{Initial water saturation} (S_{wi}) & \\text{–} & 0.1 & 0.5 & [0.1, 0.117, 0.131,  0.191, 0.212, 0.216, 0.251, 0.274, 0.5]\\\\\n",
    "\\hline\n",
    "\\end{array}"
   ]
  },
  {
   "cell_type": "code",
   "execution_count": null,
   "id": "2233723d-06ac-450e-b343-76d065bff4f6",
   "metadata": {},
   "outputs": [],
   "source": []
  }
 ],
 "metadata": {
  "kernelspec": {
   "display_name": "Python 3 (ipykernel)",
   "language": "python",
   "name": "python3"
  },
  "language_info": {
   "codemirror_mode": {
    "name": "ipython",
    "version": 3
   },
   "file_extension": ".py",
   "mimetype": "text/x-python",
   "name": "python",
   "nbconvert_exporter": "python",
   "pygments_lexer": "ipython3",
   "version": "3.10.12"
  }
 },
 "nbformat": 4,
 "nbformat_minor": 5
}
