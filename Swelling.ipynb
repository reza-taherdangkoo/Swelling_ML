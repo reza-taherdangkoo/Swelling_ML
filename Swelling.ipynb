{
 "cells": [
  {
   "cell_type": "raw",
   "metadata": {},
   "source": [
    "author = \"Mostafa Mollaali, Reza TaherDangkoo\"\n",
    "date = \"2024-06-11\"\n",
    "title = \"Swelling\"\n",
    "web_subsection = \"Hydro mechanical\"\n",
    "<!--eofm-->"
   ]
  },
  {
   "cell_type": "code",
   "execution_count": 17,
   "metadata": {},
   "outputs": [],
   "source": [
    "from ogs6py import ogs\n",
    "import numpy as np\n",
    "import ogs6py\n",
    "import matplotlib.pyplot as plt\n",
    "import time\n",
    "import math\n",
    "import gmsh\n",
    "import os\n",
    "import argparse\n",
    "import re\n",
    "import time\n",
    "import csv\n",
    "import pandas as pd\n",
    "import glob\n",
    "import pyvista as pv\n",
    "from ogstools.msh2vtu import msh2vtu\n",
    "import shutil\n",
    "import xml.etree.ElementTree as ET\n",
    "\n",
    "pi = math.pi\n",
    "plt.rcParams[\"text.usetex\"] = True"
   ]
  },
  {
   "cell_type": "markdown",
   "metadata": {},
   "source": [
    "# Swelling\n"
   ]
  },
  {
   "cell_type": "markdown",
   "metadata": {},
   "source": [
    "## Problem Description"
   ]
  },
  {
   "cell_type": "markdown",
   "metadata": {},
   "source": [
    "![Schematic view of hydraulic fracturing problem and Boundary conditions](./figures/Model_propagating_straight.png#one-half \"Schematic view of hydraulic fracturing problem and Boundary conditions.\")"
   ]
  },
  {
   "cell_type": "markdown",
   "metadata": {},
   "source": [
    "\n",
    "  \n"
   ]
  },
  {
   "cell_type": "markdown",
   "metadata": {},
   "source": [
    "# Input Data"
   ]
  },
  {
   "cell_type": "markdown",
   "metadata": {},
   "source": [
    "The simulations were run with the properties listed in the Table below."
   ]
  },
  {
   "cell_type": "markdown",
   "metadata": {},
   "source": [
    "\n",
    "| **Name**                       | **Range**                 | **Unit**   | **Symbol** |\n",
    "|--------------------------------|---------------------------|------------|------------|\n",
    "| _Young's modulus_              | 500 - 2500                | MPa        | $E$        |\n",
    "| _Poisson's ratio_              | 0.16 - 0.35               | -          | $\\nu$      |\n",
    "| _Maximum swelling pressure_    | 3.2 - 13                  | MPa        | $\\sigma$   |\n",
    "| _Permeability_                 | 1 $\\times$ 10$^{-14}$ - 1 $\\times$ 10$^{-12}$ | m$^2$ | $k$        |\n",
    "| _Initial water saturation_     | 0.1 - 0.5                 | -          | $S_{wi}$   |\n"
   ]
  },
  {
   "cell_type": "markdown",
   "metadata": {},
   "source": [
    "# Output Directory  and Project File"
   ]
  },
  {
   "cell_type": "code",
   "execution_count": 18,
   "metadata": {},
   "outputs": [],
   "source": [
    "# file's name\n",
    "prj_name = \"swelling_staufen.prj\"\n",
    "\n",
    "out_dir = os.environ.get(\"OGS_TESTRUNNER_OUT_DIR\", \"_out\")\n",
    "os.makedirs(out_dir, exist_ok=True)"
   ]
  },
  {
   "cell_type": "code",
   "execution_count": 19,
   "metadata": {},
   "outputs": [
    {
     "name": "stdout",
     "output_type": "stream",
     "text": [
      "Copied 10 .vtu files to _out\n"
     ]
    }
   ],
   "source": [
    "# Find all .vtu files in the current directory\n",
    "vtu_files = glob.glob(\"*.vtu\")\n",
    "\n",
    "# Copy each .vtu file to the output directory\n",
    "for vtu_file in vtu_files:\n",
    "    shutil.copy(vtu_file, out_dir)\n",
    "\n",
    "print(f\"Copied {len(vtu_files)} .vtu files to {out_dir}\")"
   ]
  },
  {
   "cell_type": "code",
   "execution_count": 20,
   "metadata": {},
   "outputs": [],
   "source": [
    "ogs_path ='/Users/mollaali/dynamicPhasefield/build_release/bin'\n",
    "ogs_util_path ='/Users/mollaali/dynamicPhasefield/build_release/bin'"
   ]
  },
  {
   "cell_type": "markdown",
   "metadata": {},
   "source": [
    "# Post-processing"
   ]
  },
  {
   "cell_type": "code",
   "execution_count": 21,
   "metadata": {},
   "outputs": [],
   "source": [
    "def calculate_principal_stresses(sigma_xx, sigma_yy, sigma_xy):\n",
    "    # Calculate principal stresses\n",
    "    lambda_1 = (sigma_xx + sigma_yy) / 2 + np.sqrt(((sigma_xx - sigma_yy) / 2) ** 2 + sigma_xy ** 2)\n",
    "    lambda_2 = (sigma_xx + sigma_yy) / 2 - np.sqrt(((sigma_xx - sigma_yy) / 2) ** 2 + sigma_xy ** 2)\n",
    "    lambda_3 = np.zeros_like(lambda_1)  # sigma_zz = 0\n",
    "    \n",
    "    # Calculate maximum principal stress\n",
    "    sigma_max = np.max(np.abs([lambda_1, lambda_2, lambda_3]), axis=0)\n",
    "    return sigma_max\n",
    "\n",
    "def calculate_principal_strains(epsilon_xx, epsilon_yy, epsilon_xy):\n",
    "    # Calculate principal strains\n",
    "    lambda_1 = (epsilon_xx + epsilon_yy) / 2 + np.sqrt(((epsilon_xx - epsilon_yy) / 2) ** 2 + epsilon_xy ** 2)\n",
    "    lambda_2 = (epsilon_xx + epsilon_yy) / 2 - np.sqrt(((epsilon_xx - epsilon_yy) / 2) ** 2 + epsilon_xy ** 2)\n",
    "    lambda_3 = np.zeros_like(lambda_1)  # In 2D, assuming epsilon_zz = 0\n",
    "    \n",
    "    # Calculate maximum principal strain\n",
    "    epsilon_max = np.max(np.abs([lambda_1, lambda_2, lambda_3]), axis=0)\n",
    "    return epsilon_max\n",
    "\n",
    "def calculate_displacement_magnitude(disp_x, disp_y):\n",
    "    disp_magnitude = np.sqrt(disp_x ** 2 + disp_y ** 2)\n",
    "    return disp_magnitude"
   ]
  },
  {
   "cell_type": "code",
   "execution_count": 22,
   "metadata": {},
   "outputs": [],
   "source": [
    "def Post_processing(prefix, E, nu, K, swelling_stress_rate):\n",
    "    reader = pv.get_reader(f\"{out_dir}/{prefix}.pvd\")\n",
    "\n",
    "    porosity_data, saturation_data = [], []\n",
    "    xs_data, ys_data, disp_x_data, disp_y_data, time_values = [], [], [], [], []\n",
    "    sigma_xx_data, sigma_yy_data, sigma_zz_data, sigma_xy_data = [], [], [], []\n",
    "    epsilon_xx_data, epsilon_yy_data, epsilon_zz_data, epsilon_xy_data = [], [], [], []\n",
    "\n",
    "    for t, time_value in enumerate(reader.time_values):\n",
    "        reader.set_active_time_value(time_value)\n",
    "\n",
    "        mesh = reader.read()[0] \n",
    "        xs = mesh.points[:, 0]\n",
    "        ys = mesh.points[:, 1]\n",
    "        porosity = mesh.point_data[\"porosity\"]\n",
    "        saturation = mesh.point_data[\"saturation\"]\n",
    "        disp = mesh.point_data[\"displacement\"]\n",
    "        sigma = mesh.point_data[\"sigma\"]  # Assuming \"sigma\" is the key for stress data\n",
    "        epsilon = mesh.point_data[\"epsilon\"]  # Assuming \"epsilon\" is the key for strain data\n",
    "\n",
    "        disp_x = disp[:, 0]\n",
    "        disp_y = disp[:, 1]\n",
    "        sigma_xx = sigma[:, 0]\n",
    "        sigma_yy = sigma[:, 1]\n",
    "        sigma_zz = sigma[:, 2]\n",
    "        sigma_xy = sigma[:, 3]\n",
    "        epsilon_xx = epsilon[:, 0]\n",
    "        epsilon_yy = epsilon[:, 1]\n",
    "        epsilon_zz = epsilon[:, 2]\n",
    "        epsilon_xy = epsilon[:, 3]\n",
    "\n",
    "        xs_data.extend(xs)\n",
    "        ys_data.extend(ys)\n",
    "        porosity_data.extend(porosity)\n",
    "        saturation_data.extend(saturation)\n",
    "        disp_x_data.extend(disp_x)\n",
    "        disp_y_data.extend(disp_y)\n",
    "        sigma_xx_data.extend(sigma_xx)\n",
    "        sigma_yy_data.extend(sigma_yy)\n",
    "        sigma_zz_data.extend(sigma_zz)\n",
    "        sigma_xy_data.extend(sigma_xy)\n",
    "        epsilon_xx_data.extend(epsilon_xx)\n",
    "        epsilon_yy_data.extend(epsilon_yy)\n",
    "        epsilon_zz_data.extend(epsilon_zz)\n",
    "        epsilon_xy_data.extend(epsilon_xy)\n",
    "        time_values.extend([time_value] * len(xs))  \n",
    "        \n",
    "    # Calculate maximum principal strain for each point\n",
    "    epsilon_max_data = calculate_principal_strains(np.array(epsilon_xx_data), np.array(epsilon_yy_data), np.array(epsilon_xy_data))\n",
    "\n",
    "    # Calculate maximum principal stress for each point\n",
    "    sigma_max_data = calculate_principal_stresses(np.array(sigma_xx_data), np.array(sigma_yy_data), np.array(sigma_xy_data))\n",
    "\n",
    "    # Calculate displacement magnitude for each point\n",
    "    disp_magnitude_data = calculate_displacement_magnitude(np.array(disp_x_data), np.array(disp_y_data))\n",
    "\n",
    "    # Constant values for E, K, swelling_stress_rate for each point in the mesh\n",
    "    E_values = [E] * len(xs_data)\n",
    "    nu_values = [nu] * len(xs_data)\n",
    "    K_values = [K] * len(xs_data)\n",
    "    swelling_stress_rate_values = [swelling_stress_rate] * len(xs_data)\n",
    "\n",
    "\n",
    "    #     data = list(zip(time_values, E_values, nu_values, K_values, swelling_pressure_values, porosity_avg, Saturation_avg, xs_data, ys_data,  disp_x_data, disp_y_data,\n",
    "    #                    sigma_xx_data, sigma_yy_data, sigma_zz_data, sigma_xy_data,\n",
    "    #                     epsilon_xx_data, epsilon_yy_data, epsilon_zz_data, epsilon_xy_data,\n",
    "    #                     epsilon_max_data, sigma_max_data, disp_magnitude_data))\n",
    "\n",
    "    data = list(zip(time_values,  E_values, nu_values, K_values, swelling_pressure_values, porosity_data, saturation_data, xs_data, ys_data, epsilon_max_data))\n",
    "\n",
    "    # Write the data to a CSV file\n",
    "    with open(f'{out_dir}/{prefix}.csv', 'w', newline='') as csvfile:\n",
    "        csvwriter = csv.writer(csvfile)\n",
    "    #         csvwriter.writerow(['time_value', 'E', 'nu', 'K', 'swelling_pressure' , 'porosity_avg', 'Saturation_avg', 'xs', 'ys', 'disp_x', 'disp_y',\n",
    "    #                             'sigma_xx', 'sigma_yy', 'sigma_zz', 'sigma_xy',\n",
    "    #                             'epsilon_xx', 'epsilon_yy', 'epsilon_zz', 'epsilon_xy',\n",
    "    #                             'principal_epsilon_max', 'principal_sigma_max', 'disp_magnitude']) \n",
    "\n",
    "        csvwriter.writerow(['time_value', 'E', 'nu', 'K', 'swelling_pressure' , 'porosity_avg', 'Saturation_avg',  'xs', 'ys', 'principal_epsilon_max', 'disp_magnitude'])  \n",
    "        csvwriter.writerows(data)"
   ]
  },
  {
   "cell_type": "markdown",
   "metadata": {},
   "source": [
    "# Run the Simulation \n"
   ]
  },
  {
   "cell_type": "code",
   "execution_count": 27,
   "metadata": {},
   "outputs": [],
   "source": [
    "import pyvista as pv\n",
    "pv.set_plot_theme(\"document\")\n",
    "if \"PYVISTA_HEADLESS\" in os.environ:\n",
    "    pv.start_xvfb()\n",
    "pv.set_jupyter_backend(\"static\")\n",
    "\n",
    "def swelling_numerical(E, nu, K, swelling_pressure, out_dir):\n",
    "\n",
    "    #generate prefix from properties\n",
    "    prefix = f\"swelling_E{E[0]}_nu{nu[0]}_K{K[0]}_S{swelling_pressure[0]}\"\n",
    "    Screenoutput = f\"log_swelling_E{E[0]}_nu{nu[0]}_K{K[0]}_S{swelling_pressure[0]}\"\n",
    "    print(prefix)\n",
    "    print(Screenoutput)\n",
    "\n",
    "    \n",
    "    model = OGSModel(prj_name)\n",
    "    # Replace the parameters in the model\n",
    "    model.replace_parameter(name=\"E_l1\", value=E)\n",
    "    model.replace_parameter(name=\"nu1\", value=nu)\n",
    "    model.replace_parameter(name=\"permeability_l1\", value=K) \n",
    "    model.replace_property_value(media_id=\"1\", phase_type=\"Solid\", property_name=\"swelling_stress_rate\", values=swelling_pressure, valuetag=\"swelling_pressures\")\n",
    "    model.save(f\"{out_dir}/{prj_name}\")\n",
    "    print(f\"Saved {prj_name}\")\n",
    "    \n",
    "    model = ogs.OGS(INPUT_FILE=f\"{out_dir}/{prj_name}\", PROJECT_FILE=f\"{out_dir}/{prj_name}\", MKL=True, args=f\"-o {out_dir}\")\n",
    "    model.replace_text(prefix, xpath=\"./time_loop/output/prefix\")\n",
    "    model.write_input() \n",
    "\n",
    "    #run simulation with ogs\n",
    "    t0 = time.time()\n",
    "    print(\">>> OGS started execution ... <<<\")\n",
    "    !{ogs_path}/ogs {out_dir}/{prj_name} -o {out_dir} > {out_dir}/{Screenoutput}\n",
    "    tf = time.time()\n",
    "    print(\">>> OGS terminated execution  <<< Elapsed time: \", round(tf - t0, 2), \" s.\")\n",
    "    \n",
    "    print(\"Post-processing\")\n",
    "    Post_processing(prefix, E, nu, K, swelling_pressure)"
   ]
  },
  {
   "cell_type": "code",
   "execution_count": 28,
   "metadata": {},
   "outputs": [],
   "source": [
    "class OGSModel:\n",
    "    def __init__(self, prj_file):\n",
    "        self.prj_file = prj_file\n",
    "        self.tree = ET.parse(prj_file)\n",
    "        self.root = self.tree.getroot()\n",
    "\n",
    "    def _get_root(self):\n",
    "        return self.root\n",
    "\n",
    "    def _get_parameter_pointer(self, root, name, parameterpath):\n",
    "        for parameter in root.findall(parameterpath):\n",
    "            if parameter.find('name').text == name:\n",
    "                return parameter\n",
    "        return None\n",
    "\n",
    "    def _set_type_value(self, parameterpointer, value, valuetag=\"values\"):\n",
    "        if parameterpointer is not None:\n",
    "            value_element = parameterpointer.find(valuetag)\n",
    "            if value_element is not None:\n",
    "                value_element.text = ' '.join(map(str, value))\n",
    "            else:\n",
    "                ET.SubElement(parameterpointer, valuetag).text = ' '.join(map(str, value))\n",
    "\n",
    "    def replace_parameter(self, name=None, value=None, valuetag=\"values\"):\n",
    "        root = self._get_root()\n",
    "        parameterpath = \".//parameter\"\n",
    "        parameterpointer = self._get_parameter_pointer(root, name, parameterpath)\n",
    "        self._set_type_value(parameterpointer, value, valuetag=valuetag)\n",
    "    \n",
    "    def replace_property_value(self, media_id, phase_type, property_name, values, valuetag=\"values\"):\n",
    "        root = self._get_root()\n",
    "        for medium in root.findall(\".//media/medium\"):\n",
    "            if medium.get('id') == media_id:\n",
    "                for phase in medium.findall(\".//phase\"):\n",
    "                    if phase.find('type').text == phase_type:\n",
    "                        for property in phase.findall(\".//property\"):\n",
    "                            if property.find('name').text == property_name:\n",
    "                                target_element = property.find(valuetag)\n",
    "                                if target_element is not None:\n",
    "                                    target_element.text = ' '.join(map(str, values))\n",
    "                                else:\n",
    "                                    ET.SubElement(property, valuetag).text = ' '.join(map(str, values))\n",
    "\n",
    "    def save(self, output_file):\n",
    "        self.tree.write(output_file)"
   ]
  },
  {
   "cell_type": "code",
   "execution_count": 29,
   "metadata": {},
   "outputs": [
    {
     "name": "stdout",
     "output_type": "stream",
     "text": [
      "E:\n",
      "500000000.0 500000000.0 500000000.0\n",
      "634787288.552417 634787288.552417 634787288.552417\n",
      "683320962.6281469 683320962.6281469 683320962.6281469\n",
      "827348423.390457 827348423.390457 827348423.390457\n",
      "980463227.6276191 980463227.6276191 980463227.6276191\n",
      "988032562.8857687 988032562.8857687 988032562.8857687\n",
      "1002936275.7784566 1002936275.7784566 1002936275.7784566\n",
      "1054390649.9630784 1054390649.9630784 1054390649.9630784\n",
      "1191647766.9658234 1191647766.9658234 1191647766.9658234\n",
      "1269277852.74102 1269277852.74102 1269277852.74102\n",
      "1327086195.0319889 1327086195.0319889 1327086195.0319889\n",
      "1437405625.9182549 1437405625.9182549 1437405625.9182549\n",
      "1455953070.0253808 1455953070.0253808 1455953070.0253808\n",
      "1569758418.0627372 1569758418.0627372 1569758418.0627372\n",
      "2500000000.0 2500000000.0 2500000000.0\n",
      "\n",
      "nu:\n",
      "0.16 0.16 0.16\n",
      "0.18001338535945835 0.18001338535945835 0.18001338535945835\n",
      "0.1820489145329853 0.1820489145329853 0.1820489145329853\n",
      "0.19717735148492238 0.19717735148492238 0.19717735148492238\n",
      "0.2002151638702937 0.2002151638702937 0.2002151638702937\n",
      "0.2089942775759839 0.2089942775759839 0.2089942775759839\n",
      "0.22007339699503184 0.22007339699503184 0.22007339699503184\n",
      "0.2349155418782855 0.2349155418782855 0.2349155418782855\n",
      "0.24070993539305716 0.24070993539305716 0.24070993539305716\n",
      "0.24412199781282365 0.24412199781282365 0.24412199781282365\n",
      "0.24677393787747426 0.24677393787747426 0.24677393787747426\n",
      "0.26549413876139716 0.26549413876139716 0.26549413876139716\n",
      "0.27328286347925945 0.27328286347925945 0.27328286347925945\n",
      "0.35 0.35 0.35\n",
      "\n",
      "swelling_pressure:\n",
      "3200000.0 3200000.0 3200000.0\n",
      "4050988.128686452 4050988.128686452 4050988.128686452\n",
      "5351669.414729695 5351669.414729695 5351669.414729695\n",
      "5656296.333447802 5656296.333447802 5656296.333447802\n",
      "6016500.450185948 6016500.450185948 6016500.450185948\n",
      "6064330.115528772 6064330.115528772 6064330.115528772\n",
      "6945579.998081607 6945579.998081607 6945579.998081607\n",
      "7430804.84930985 7430804.84930985 7430804.84930985\n",
      "8721505.105939228 8721505.105939228 8721505.105939228\n",
      "9468294.178025099 9468294.178025099 9468294.178025099\n",
      "9706435.523413321 9706435.523413321 9706435.523413321\n",
      "9971361.66468365 9971361.66468365 9971361.66468365\n",
      "10417792.722303236 10417792.722303236 10417792.722303236\n",
      "13000000.0 13000000.0 13000000.0\n",
      "\n",
      "K:\n",
      "1e-14 1e-14\n",
      "3.6160621379545687e-13 3.6160621379545687e-13\n",
      "5.660341012843203e-13 5.660341012843203e-13\n",
      "6.240781515308837e-13 6.240781515308837e-13\n",
      "6.434350722659242e-13 6.434350722659242e-13\n",
      "6.711960096664388e-13 6.711960096664388e-13\n",
      "6.725293859610221e-13 6.725293859610221e-13\n",
      "8.138466708865329e-13 8.138466708865329e-13\n",
      "8.162940471319887e-13 8.162940471319887e-13\n",
      "8.275194856188243e-13 8.275194856188243e-13\n",
      "8.663897374766091e-13 8.663897374766091e-13\n",
      "8.829346058689276e-13 8.829346058689276e-13\n",
      "1e-12 1e-12\n",
      "\n"
     ]
    }
   ],
   "source": [
    "# Most probable values\n",
    "most_probable_values = {\n",
    "    'Young’s modulus (E)': 1000,\n",
    "    'Poisson’s ratio (ν)': 0.2,\n",
    "    'Maximum swelling pressure (σ)': 8,\n",
    "    'Permeability (k)': 8e-13,\n",
    "    'Initial water saturation (S_{wi})': 0.12\n",
    "}\n",
    "\n",
    "# Ranges\n",
    "ranges = {\n",
    "    'Young’s modulus (E)': (500, 2500),\n",
    "    'Poisson’s ratio (ν)': (0.16, 0.35),\n",
    "    'Maximum swelling pressure (σ)': (3.2, 13),\n",
    "    'Permeability (k)': (1e-14, 1e-12),\n",
    "    'Initial water saturation (S_{wi})': (0.1, 0.5)\n",
    "}\n",
    "\n",
    "# Standard deviations as 1/4th of the range\n",
    "std_devs = {param: (max_val - min_val) / 4 for param, (min_val, max_val) in ranges.items()}\n",
    "\n",
    "def generate_values(mean, std_dev, min_val, max_val, num_values=20):\n",
    "    values = np.random.normal(loc=mean, scale=std_dev, size=num_values-2)\n",
    "    values = np.clip(values, min_val, max_val)\n",
    "    values = np.concatenate(([min_val], values, [max_val]))\n",
    "    values = np.unique(values)\n",
    "    return np.sort(values)\n",
    "\n",
    "# Generate 15 values for each parameter\n",
    "generated_values = {}\n",
    "for param, mean in most_probable_values.items():\n",
    "    std_dev = std_devs[param]\n",
    "    min_val, max_val = ranges[param]\n",
    "    values = generate_values(mean, std_dev, min_val, max_val, num_values=15)\n",
    "    generated_values[param] = values\n",
    "\n",
    "# Convert values to Pa\n",
    "swelling_pressure_values = (generated_values['Maximum swelling pressure (σ)'] * 1e6).tolist()\n",
    "young_modulus_values = (generated_values['Young’s modulus (E)']* 1e6).tolist()\n",
    "\n",
    "\n",
    "# Create parameter sets from generated values\n",
    "parameters = {\n",
    "    \"E\": [[val, val, val] for val in young_modulus_values], \n",
    "    \"nu\": [[val, val, val] for val in generated_values[\"Poisson’s ratio (ν)\"].tolist()], \n",
    "    \"swelling_pressure\": [[val, val, val] for val in swelling_pressure_values], \n",
    "    \"K\": [[val, val] for val in generated_values[\"Permeability (k)\"].tolist()], \n",
    "}\n",
    "\n",
    "# Display the generated values for verification\n",
    "for param, values in parameters.items():\n",
    "    print(f\"{param}:\")\n",
    "    for value in values:\n",
    "        print(\" \".join(map(str, value))) \n",
    "    print()  "
   ]
  },
  {
   "cell_type": "code",
   "execution_count": 30,
   "metadata": {},
   "outputs": [
    {
     "name": "stdout",
     "output_type": "stream",
     "text": [
      "=====================================\n",
      "E (MPa)\t\tν\t\tK (m²)\t\tSwelling Pressure (MPa)\n",
      "=====================================\n",
      "500000000.00\t\t0.16\t\t1.00e-14\t\t3.20e+06\n",
      "swelling_E500000000.0_nu0.16_K1e-14_S3200000.0\n",
      "log_swelling_E500000000.0_nu0.16_K1e-14_S3200000.0\n",
      "Saved swelling_staufen.prj\n",
      ">>> OGS started execution ... <<<\n",
      "^C\n",
      ">>> OGS terminated execution  <<< Elapsed time:  5.66  s.\n",
      "Post-processing\n",
      "500000000.00\t\t0.16\t\t3.62e-13\t\t3.20e+06\n",
      "swelling_E500000000.0_nu0.16_K3.6160621379545687e-13_S3200000.0\n",
      "log_swelling_E500000000.0_nu0.16_K3.6160621379545687e-13_S3200000.0\n",
      "Saved swelling_staufen.prj\n",
      ">>> OGS started execution ... <<<\n",
      "^C\n",
      ">>> OGS terminated execution  <<< Elapsed time:  0.25  s.\n",
      "Post-processing\n"
     ]
    },
    {
     "name": "stderr",
     "output_type": "stream",
     "text": [
      "\n",
      "KeyboardInterrupt\n",
      "\n"
     ]
    }
   ],
   "source": [
    "print(\"=====================================\")\n",
    "print(\"E (MPa)\\t\\tν\\t\\tK (m²)\\t\\tSwelling Pressure (MPa)\")\n",
    "print(\"=====================================\")\n",
    "for E in parameters[\"E\"]:\n",
    "    for nu in parameters[\"nu\"]:\n",
    "        for swelling_pressure in parameters[\"swelling_pressure\"]:\n",
    "            for K in parameters[\"K\"]:\n",
    "                print(f\"{E[0]:.2f}\\t\\t{nu[0]:.2f}\\t\\t{K[0]:.2e}\\t\\t{swelling_pressure[0]:.2e}\")\n",
    "                swelling_numerical(E, nu, K, swelling_pressure, out_dir)"
   ]
  },
  {
   "cell_type": "markdown",
   "metadata": {},
   "source": [
    "# Combine  all valid CSV files into a single CSV file"
   ]
  },
  {
   "cell_type": "code",
   "execution_count": null,
   "metadata": {},
   "outputs": [],
   "source": [
    "csv_files = glob.glob(f\"{out_dir}/*.csv\")\n",
    "dataframes = []\n",
    "\n",
    "for file in csv_files:\n",
    "    try:\n",
    "        data = pd.read_csv(file)\n",
    "        if not data.empty:\n",
    "            dataframes.append(data)\n",
    "        else:\n",
    "            print(f\"File '{file}' is empty. Skipping...\")\n",
    "    except pd.errors.EmptyDataError:\n",
    "        print(f\"File '{file}' is empty or has formatting issues. Skipping...\")\n",
    "\n",
    "if dataframes:\n",
    "    combined_data = pd.concat(dataframes, ignore_index=True)\n",
    "    combined_data.to_csv(\"combined_data.csv\", index=False)\n",
    "    print(\"CSV files successfully combined and saved as 'combined_data.csv'\")\n",
    "else:\n",
    "    print(\"No valid CSV files found or all files are empty.\")"
   ]
  },
  {
   "cell_type": "code",
   "execution_count": null,
   "metadata": {},
   "outputs": [],
   "source": []
  }
 ],
 "metadata": {
  "kernelspec": {
   "display_name": "my_kernel_name",
   "language": "python",
   "name": "my_kernel_name"
  },
  "language_info": {
   "codemirror_mode": {
    "name": "ipython",
    "version": 3
   },
   "file_extension": ".py",
   "mimetype": "text/x-python",
   "name": "python",
   "nbconvert_exporter": "python",
   "pygments_lexer": "ipython3",
   "version": "3.11.6"
  },
  "vscode": {
   "interpreter": {
    "hash": "aee8b7b246df8f9039afb4144a1f6fd8d2ca17a180786b69acc140d282b71a49"
   }
  }
 },
 "nbformat": 4,
 "nbformat_minor": 2
}
